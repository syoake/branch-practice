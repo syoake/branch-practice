{
  "nbformat": 4,
  "nbformat_minor": 0,
  "metadata": {
    "colab": {
      "name": "이미지 중복 검사",
      "provenance": [],
      "collapsed_sections": [],
      "authorship_tag": "ABX9TyNJFBAi+C9vluBrUMGLXelW",
      "include_colab_link": true
    },
    "kernelspec": {
      "name": "python3",
      "display_name": "Python 3"
    },
    "language_info": {
      "name": "python"
    }
  },
  "cells": [
    {
      "cell_type": "markdown",
      "metadata": {
        "id": "view-in-github",
        "colab_type": "text"
      },
      "source": [
        "<a href=\"https://colab.research.google.com/github/syoake/branch-practice/blob/main/%EC%9D%B4%EB%AF%B8%EC%A7%80_%EC%A4%91%EB%B3%B5_%EA%B2%80%EC%82%AC.ipynb\" target=\"_parent\"><img src=\"https://colab.research.google.com/assets/colab-badge.svg\" alt=\"Open In Colab\"/></a>"
      ]
    },
    {
      "cell_type": "code",
      "metadata": {
        "id": "Yv8ug8sZes0O"
      },
      "source": [
        "import os\n",
        "import cv2\n",
        "from skimage.measure import compare_ssim\n",
        "\n",
        "photo_list = []\n",
        "\n",
        "for f in os.listdir('주소'):\n",
        "    if 'jpeg' in f:\n",
        "        photo_list.append(f)\n",
        "\n",
        "photo_size = list(map(lambda x: os.path.getsize('주소' + '/' + x), photo_list))\n",
        "\n",
        "# Find Same Photos\n",
        "fsp = pd.DataFrame({'filename_raw':photo_list, 'size':photo_size})\n",
        "\n",
        "print('사진의 갯수 :', len(fsp))\n",
        "\n",
        "\n",
        "\n",
        "# 삭제될 사진의 리스트\n",
        "delete = []\n",
        "\n",
        "for i in range(len(psvc_nsn)):\n",
        "\n",
        "  # 중복된 크기(size)가 있는 경우\n",
        "  if psvc_nsn['size_counts_nsn'][i] == 2:\n",
        "\n",
        "    # 그 크기에 해당하는 사진을 불러온다.\n",
        "    temp = fsp_nsn[fsp_nsn['size'] == psvc_nsn['size'][i]].reset_index(drop = True).sort_values(['filename'])\n",
        "\n",
        "    # 사진 읽기\n",
        "    imageA = cv2.imread('Photo/'+temp['filename_raw'][0])\n",
        "    imageB = cv2.imread('Photo/'+temp['filename_raw'][0])\n",
        "\n",
        "    # 이미지를 grayscale로 변환\n",
        "    grayA = cv2.cvtColor(imageA, cv2.COLOR_BGR2GRAY)\n",
        "    grayB = cv2.cvtColor(imageB, cv2.COLOR_BGR2GRAY)\n",
        "\n",
        "    # 이미지의 구조가 같다면 이미지 비교\n",
        "    if len(grayA) == len(grayB):\n",
        "      (score, diff) = compare_ssim(grayA, grayB, full = True)\n",
        "\n",
        "      # 차이가 없다면 하나는 delete에 넣어주기\n",
        "      if score == 1:\n",
        "        delete.append(temp['filename_raw'][1])\n",
        "      \n",
        "      # 구조가 같지만 차이가 존재한다면 직접 확인하기\n",
        "      else:\n",
        "        print('확인해보시오!: ', temp['filename_raw'][0], '/', temp['filename_raw'][1], f'(score : {score}')"
      ],
      "execution_count": null,
      "outputs": []
    }
  ]
}